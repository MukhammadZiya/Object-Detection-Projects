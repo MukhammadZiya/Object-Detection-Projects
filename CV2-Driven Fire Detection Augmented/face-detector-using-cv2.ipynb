{
 "cells": [
  {
   "cell_type": "code",
   "execution_count": 7,
   "id": "8fe1966d-b6c1-4c9e-9c0a-354f343b0ba4",
   "metadata": {
    "tags": []
   },
   "outputs": [],
   "source": [
    "import cv2\n",
    "import pathlib \n",
    "\n",
    "cascade_path = pathlib.Path(cv2.__file__).parent.absolute() / \"data/haarcascade_frontalface_default.xml\"\n",
    "\n",
    "clf = cv2.CascadeClassifier(str(cascade_path)) \n",
    "\n",
    "# camera = cv2.VideoCapture(0)\n",
    "\n",
    "camera = cv2.VideoCapture(\"pexels-ron-lach-10669349 (1440p).mp4\")\n",
    "\n",
    "while True: \n",
    "    _, frame = camera.read()\n",
    "    gray = cv2.cvtColor(frame, cv2.COLOR_BGR2GRAY)\n",
    "    faces = clf.detectMultiScale(\n",
    "        gray,\n",
    "        scaleFactor = 1.1,\n",
    "        minNeighbors  = 6,\n",
    "        minSize = (30, 30),\n",
    "        flags = cv2.CASCADE_SCALE_IMAGE)\n",
    "    \n",
    "    \n",
    "    for (x, y, width, height) in faces : \n",
    "        cv2.rectangle(frame, (x, y) , (x+width, y+height), (255,255, 0 ), 2)\n",
    "        \n",
    "        \n",
    "    cv2.imshow(\"Faces\", frame )\n",
    "    if cv2.waitKey(1) == ord(\"q\"): \n",
    "        break \n",
    "        \n",
    "camera.release()\n",
    "cv2.destroyAllWindows()\n",
    "        \n",
    "        \n",
    "        "
   ]
  },
  {
   "cell_type": "code",
   "execution_count": null,
   "id": "38c80606-bbd4-4ff3-bca6-2e06836b0c6d",
   "metadata": {},
   "outputs": [],
   "source": []
  }
 ],
 "metadata": {
  "kernelspec": {
   "display_name": "my_env",
   "language": "python",
   "name": "my_env"
  },
  "language_info": {
   "codemirror_mode": {
    "name": "ipython",
    "version": 3
   },
   "file_extension": ".py",
   "mimetype": "text/x-python",
   "name": "python",
   "nbconvert_exporter": "python",
   "pygments_lexer": "ipython3",
   "version": "3.9.18"
  }
 },
 "nbformat": 4,
 "nbformat_minor": 5
}
